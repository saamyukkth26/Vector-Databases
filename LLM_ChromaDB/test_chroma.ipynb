{
 "cells": [
  {
   "cell_type": "code",
   "execution_count": 1,
   "metadata": {},
   "outputs": [
    {
     "name": "stderr",
     "output_type": "stream",
     "text": [
      "/var/folders/mt/c6qz9wtd1813dmvdwcp8l1780000gn/T/ipykernel_5322/620325615.py:4: LangChainDeprecationWarning: The class `Ollama` was deprecated in LangChain 0.3.1 and will be removed in 1.0.0. An updated version of the class exists in the :class:`~langchain-ollama package and should be used instead. To use it run `pip install -U :class:`~langchain-ollama` and import as `from :class:`~langchain_ollama import OllamaLLM``.\n",
      "  llm_model = Ollama(model = \"llama2-uncensored\")\n"
     ]
    }
   ],
   "source": [
    "from langchain.vectorstores import Chroma\n",
    "from langchain.embeddings import HuggingFaceEmbeddings\n",
    "from langchain.llms import Ollama\n",
    "llm_model = Ollama(model = \"llama2-uncensored\")"
   ]
  },
  {
   "cell_type": "code",
   "execution_count": 2,
   "metadata": {},
   "outputs": [
    {
     "name": "stdout",
     "output_type": "stream",
     "text": [
      "Ollama says: Rohit Sharma is a renowned Indian cricketer who plays as an opening batsman. He currently plays for the Mumbai Indians franchise in the Indian Premier League (IPL).\n"
     ]
    }
   ],
   "source": [
    "response = llm_model.invoke(\"Who is rohit sharma and what team does he play for in ipl 2025\")\n",
    "print(\"Ollama says:\", response)"
   ]
  },
  {
   "cell_type": "code",
   "execution_count": 3,
   "metadata": {},
   "outputs": [
    {
     "name": "stderr",
     "output_type": "stream",
     "text": [
      "USER_AGENT environment variable not set, consider setting it to identify your requests.\n"
     ]
    }
   ],
   "source": [
    "from langchain_community.document_loaders import WebBaseLoader"
   ]
  },
  {
   "cell_type": "code",
   "execution_count": 4,
   "metadata": {},
   "outputs": [],
   "source": [
    "loader = WebBaseLoader(\"https://en.wikipedia.org/wiki/Amazon_(company)\")"
   ]
  },
  {
   "cell_type": "code",
   "execution_count": 5,
   "metadata": {},
   "outputs": [],
   "source": [
    "def WebsiteLoader(urls):\n",
    "    loader = WebBaseLoader(urls)\n",
    "    return loader.load()"
   ]
  },
  {
   "cell_type": "code",
   "execution_count": 6,
   "metadata": {},
   "outputs": [],
   "source": [
    "urls = [\"https://en.wikipedia.org/wiki/Amazon_(company)\", \"https://en.wikipedia.org/wiki/Apple_Inc.\"]\n",
    "website_docs = WebsiteLoader(urls)\n"
   ]
  },
  {
   "cell_type": "code",
   "execution_count": 7,
   "metadata": {},
   "outputs": [],
   "source": [
    "#splitting documents into chunks\n",
    "from langchain_text_splitters import RecursiveCharacterTextSplitter\n",
    "\n",
    "text_splitter = RecursiveCharacterTextSplitter(\n",
    "    chunk_size = 500,\n",
    "    chunk_overlap = 100,\n",
    "    length_function = len,\n",
    "    is_separator_regex = False,\n",
    ")\n",
    "\n",
    "all_documents = website_docs\n",
    "\n",
    "split_documents = text_splitter.split_documents(all_documents)"
   ]
  },
  {
   "cell_type": "code",
   "execution_count": 8,
   "metadata": {},
   "outputs": [
    {
     "name": "stdout",
     "output_type": "stream",
     "text": [
      "data succesfully stored in chromadb\n",
      "Chromadb reloaded successfully\n"
     ]
    },
    {
     "name": "stderr",
     "output_type": "stream",
     "text": [
      "/var/folders/mt/c6qz9wtd1813dmvdwcp8l1780000gn/T/ipykernel_5322/925210441.py:17: LangChainDeprecationWarning: Since Chroma 0.4.x the manual persistence method is no longer supported as docs are automatically persisted.\n",
      "  vectorstore.persist()\n",
      "/var/folders/mt/c6qz9wtd1813dmvdwcp8l1780000gn/T/ipykernel_5322/925210441.py:21: LangChainDeprecationWarning: The class `Chroma` was deprecated in LangChain 0.2.9 and will be removed in 1.0. An updated version of the class exists in the :class:`~langchain-chroma package and should be used instead. To use it run `pip install -U :class:`~langchain-chroma` and import as `from :class:`~langchain_chroma import Chroma``.\n",
      "  vectorstore = Chroma(persist_directory=persist_directory, embedding_function=embeddings)\n"
     ]
    }
   ],
   "source": [
    "# Embedding Documents and storing data in chroma\n",
    "\n",
    "#initiliazing Ollama embeddings\n",
    "from langchain_ollama import OllamaEmbeddings\n",
    "embeddings = OllamaEmbeddings(\n",
    "    model=\"llama2-uncensored\",\n",
    ")\n",
    "persist_directory = \"./chroma_db\"\n",
    "\n",
    "#store documents in chromadb\n",
    "vectorstore = Chroma.from_documents(\n",
    "    documents = split_documents,\n",
    "    embedding = embeddings,\n",
    "    persist_directory = persist_directory\n",
    ")\n",
    "\n",
    "vectorstore.persist()\n",
    "print(\"data succesfully stored in chromadb\")\n",
    "\n",
    "#Reload the vector store for retrieval\n",
    "vectorstore = Chroma(persist_directory=persist_directory, embedding_function=embeddings)\n",
    "print(\"Chromadb reloaded successfully\")"
   ]
  },
  {
   "cell_type": "code",
   "execution_count": 13,
   "metadata": {},
   "outputs": [
    {
     "name": "stdout",
     "output_type": "stream",
     "text": [
      "Sure, I can provide you with the details of Apple and Amazon. Here are some facts about both companies:\n",
      "\n",
      "- Apple was founded in 1976 by Steve Jobs, Steve Wozniak, and Ronald Wayne. The company is known for its line of consumer electronics, including iPhones, iPads, Macintosh computers, and more.\n",
      "- Amazon was founded in 1994 by Jeff Bezos as an online bookstore. Today, the company offers a wide range of products and services, including digital content, cloud computing, and artificial intelligence.\n",
      "\n",
      "I hope this helps! Let me know if you have any other questions.\n"
     ]
    }
   ],
   "source": [
    "#retrieving most relevant documents using similarity search\n",
    "# from langchain.vectorstores import Chroma\n",
    "from langchain.chains import RetrievalQA\n",
    "retriever = vectorstore.as_retriever(search_type = \"similarity\", search_kwargs={\"k\":5})\n",
    "qa = RetrievalQA.from_chain_type(\n",
    "    llm = llm_model, chain_type = \"stuff\", retriever=retriever, return_source_documents=True)\n",
    "query = \"which two company details will u provide me?\"\n",
    "result = qa({\"query\":query})\n",
    "print(result['result'])\n",
    "\n",
    "#comments added\n",
    "#comments2 added\n",
    "#comment3\n",
    "\n"
   ]
  },
  {
   "cell_type": "code",
   "execution_count": null,
   "metadata": {},
   "outputs": [],
   "source": []
  }
 ],
 "metadata": {
  "kernelspec": {
   "display_name": ".venv",
   "language": "python",
   "name": "python3"
  },
  "language_info": {
   "codemirror_mode": {
    "name": "ipython",
    "version": 3
   },
   "file_extension": ".py",
   "mimetype": "text/x-python",
   "name": "python",
   "nbconvert_exporter": "python",
   "pygments_lexer": "ipython3",
   "version": "3.13.3"
  }
 },
 "nbformat": 4,
 "nbformat_minor": 2
}
